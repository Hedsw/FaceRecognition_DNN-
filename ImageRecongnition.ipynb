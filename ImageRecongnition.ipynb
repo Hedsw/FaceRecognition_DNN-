{
  "nbformat": 4,
  "nbformat_minor": 0,
  "metadata": {
    "colab": {
      "name": "ImageRecongnition.ipynb",
      "provenance": [],
      "private_outputs": true,
      "authorship_tag": "ABX9TyOuRM0SDn91x9eO/t6xkT2D"
    },
    "kernelspec": {
      "name": "python3",
      "display_name": "Python 3"
    }
  },
  "cells": [
    {
      "cell_type": "code",
      "metadata": {
        "id": "rw4zU-xxinXR"
      },
      "source": [
        "from keras.datasets import cifar10\n",
        "import matplotlib.pyplot as plt\n",
        "\n",
        "cifar10_class_names = {\n",
        "    0: \"Plane\",\n",
        "    1: \"Car\",\n",
        "    2: \"Bird\",\n",
        "    3: \"Cat\",\n",
        "    4: \"Deer\",\n",
        "    5: \"Dog\",\n",
        "    6: \"Frog\",\n",
        "    7: \"Horse\",\n",
        "    8: \"Boat\",\n",
        "    9: \"Truck\"\n",
        "}\n",
        "\n",
        "# Load the entire data set\n",
        "(x_train, y_train), (x_test, y_test) = cifar10.load_data()\n",
        "\n",
        "# Loop thorugh each pictures in the data set \n",
        "for i in range(1000):\n",
        "    # Grab an image from the data set\n",
        "    sample_image = x_train[i]\n",
        "    # Grab the image's expected class id\n",
        "    image_class_number = y_train[i][0]\n",
        "\n",
        "    # Look up the class name from the class id\n",
        "    image_class_name = cifar10_class_names[image_class_number]\n",
        "\n",
        "    # Draw the image as a plot\n",
        "    plt.imshow(sample_image)\n",
        "    # Label the image\n",
        "    plt.title(image_class_name)\n",
        "    # Show the plot on the screen\n",
        "    plt.show()\n",
        "\n",
        "    \n"
      ],
      "execution_count": null,
      "outputs": []
    },
    {
      "cell_type": "code",
      "metadata": {
        "id": "jCP8g92LuxWV"
      },
      "source": [
        "import keras\n",
        "from keras.datasets import cifar10\n",
        "from keras.models import Sequential\n",
        "from keras.layers import Dense, Dropout, Flatten, Conv2D, MaxPooling2D\n",
        "from pathlib import Path\n",
        "\n",
        "# Load data Set\n",
        "(x_train, y_train), (x_test, y_test) = cifar10.load_data()\n",
        "\n",
        "# Normalize data set to 0-to-1 range\n",
        "x_train = x_train.astype(\"float32\")\n",
        "x_test = x_test.astype(\"float32\")\n",
        "x_train = x_train / 255\n",
        "x_test = x_test / 255\n",
        "\n",
        "# Convert class vectors to binary class matrices\n",
        "# Out labels are single values from 0 to 9\n",
        "y_train = keras.utils.to_categorical(y_train, 10)\n",
        "y_test = keras.utils.to_categorical(y_test, 10)\n",
        "\n",
        "# Create a model and add layers\n",
        "model = Sequential() # Input_shape은 첫번째 레이어에서 넣어야 함. \n",
        "\n",
        "model.add(Conv2D(32, (3, 3), padding=\"same\", activation=\"relu\", input_shape = (32, 32, 3)))\n",
        "model.add(Conv2D(32, (3, 3), activation = \"relu\"))\n",
        "\n",
        "model.add(Conv2D(64, (3, 3), padding = \"same\", activation = \"relu\"))\n",
        "model.add(Conv2D(64, (3, 3), activation = \"relu\"))\n",
        "\n",
        "model.add(Flatten())\n",
        "\n",
        "model.add(Dense(512, activation = \"relu\"))\n",
        "model.add(Dense(10, activation = \"softmax\"))\n",
        "\n",
        "# Print a summary of the model\n",
        "model.summary()\n"
      ],
      "execution_count": null,
      "outputs": []
    }
  ]
}